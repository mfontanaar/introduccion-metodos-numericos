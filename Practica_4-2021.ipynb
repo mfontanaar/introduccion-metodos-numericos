{
  "nbformat": 4,
  "nbformat_minor": 0,
  "metadata": {
    "colab": {
      "name": "[MN] Práctica 4 - 2021.ipynb",
      "provenance": [],
      "collapsed_sections": [],
      "toc_visible": true
    },
    "kernelspec": {
      "display_name": "Python 3",
      "name": "python3"
    },
    "language_info": {
      "name": "python"
    }
  },
  "cells": [
    {
      "cell_type": "markdown",
      "metadata": {
        "id": "D4s99oPsnBD2"
      },
      "source": [
        "<center>\n",
        "<h1> <b>Métodos numéricos</b> </h1>\n",
        "<h3> <b>Segundo cuatrimestre 2021</b> </h3>\n",
        "<br>\n",
        "<h1> <b>Práctica 4: Ecuaciones parabólicas</b> </h1>\n",
        "<h3> Cátedra: Pablo Dmitruk </h3>\n",
        "<br>\n",
        "<h3> Fecha límite de entrega: 22 de octubre de 2021 23:59 </h3>\n",
        "</center>"
      ]
    },
    {
      "cell_type": "markdown",
      "metadata": {
        "id": "RwghMHtkn9Dt"
      },
      "source": [
        "### Entrega de:   **COMPLETAR CON SUS NOMBRES**"
      ]
    },
    {
      "cell_type": "markdown",
      "metadata": {
        "id": "AS_LnIqhn_eQ"
      },
      "source": [
        "- [Ejercicios](#ejercicios)\n",
        "\n",
        "- [Repaso teórico](#explicacion)"
      ]
    },
    {
      "cell_type": "markdown",
      "metadata": {
        "id": "n5iHAO7EkqUL"
      },
      "source": [
        "Si bien la temática de la práctica es la de **ecuaciones parabólicas**, para fijar ideas, y dado que las estrategias aquí vistas pueden generalizarse a otras EDPs parabólicas, **vamos a centrarnos en la ecuación de difusión** a difusividad constante,\n",
        "\\begin{equation*}\n",
        "    \\frac{\\partial f}{\\partial t} - \\nu \\nabla^2 f = 0.\n",
        "\\end{equation*}\n",
        "$f$ es la cantidad difundida (que puede ser escalar o vectorial) y $\\nu$ es la difusividad, que tiene unidades de $[\\nu] = L^2/T$ (longitud al cuadrado sobre tiempo). Un ejemplo muy común, donde a $f$ suele denotarselo $T$ y a $\\nu$, $\\kappa$, es la difusión de la temperatura (i.e., la ecuación de calor)."
      ]
    },
    {
      "cell_type": "markdown",
      "metadata": {
        "id": "LDuETkwjoKaK"
      },
      "source": [
        "<a name=\"ejercicios\"></a>\n",
        "\n",
        "# **Ejercicios**"
      ]
    },
    {
      "cell_type": "markdown",
      "metadata": {
        "id": "LjMAJcWLz0A_"
      },
      "source": [
        "## **Problema 1: Condición de CFL para la ecuación de calor 1D**"
      ]
    },
    {
      "cell_type": "markdown",
      "metadata": {
        "id": "rf_rZ-arz6kk"
      },
      "source": [
        "Encuentre la condición de _Courant–Friedrichs–Lewy_ (CFL), para la ecuación de difusión 1D (una dimensión espacial):\n",
        "\n",
        "> $\\text{a)}$ a partir de análisis dimensional (con esto solo podrán determinar la forma funcional de la condición);\n",
        "\n",
        "> $\\text{b)}$ a partir de estudiar el factor de amplificación para el esquema que combina Euler adelantado en tiempo y diferencias finitas centradas de segundo orden en espacio."
      ]
    },
    {
      "cell_type": "markdown",
      "metadata": {
        "id": "dL4Q6cMhMiZ0"
      },
      "source": [
        "**Su resolución acá**"
      ]
    },
    {
      "cell_type": "markdown",
      "metadata": {
        "id": "dSXwRzyhpPhF"
      },
      "source": [
        "---"
      ]
    },
    {
      "cell_type": "markdown",
      "metadata": {
        "id": "JCNSkDEy97u1"
      },
      "source": [
        "## **Problema 2: Estabilidad de esquemas explícitos**"
      ]
    },
    {
      "cell_type": "markdown",
      "metadata": {
        "id": "lzvOvDmvo3Sg"
      },
      "source": [
        "Considere la ecuación de difusión 1D con condiciones de contorno de Dirichlet en el dominio $x \\in [0, 1]$, $t \\in [0, 15]$:\n",
        "\\begin{equation*}\n",
        "    \\frac{\\partial f}{\\partial t} - \\nu \\frac{\\partial^2 f}{\\partial x^2} = 0, \\qquad \\qquad \\begin{cases}f(t,0) &= 0,\\\\\n",
        "    f(t,1) &= 1,\\\\\n",
        "    f(0,x) &= x^2.\n",
        "\\end{cases}\n",
        "\\end{equation*}\n",
        "\n",
        "> $\\text{a)}$ Escriba una función `integrar_difusion_1d_euler` que permita integrar la ecuación de advección con condiciones de contorno de tipo Dirichlet que no dependen del tiempo. El mismo debe utilizar diferencias finitas centradas de segundo orden en espacio y Euler adelantado para la integración temporal. _Ayuda: utilice lo aprendido en la práctica 1 para evolucionar solo los puntos interiores al dominio. Para mayor facilidad le proporcionamos un esqueleto de la función a implementar._\n",
        "\n",
        "> $\\text{b)}$ Empleando $\\nu = 1 \\times 10^{-1}$, integre el problema hasta $t_f=15$ utilizando $N_x \\in \\{64; 128; 256 \\}$ puntos de grilla totales (incluyendo contornos). En todos los casos experimente con los valores de $\\Delta t$ hasta hallar el valor máximo $\\Delta t^\\text{crít}$ para el cual obtiene una integración estable (alcanza con obtener $\\Delta t^\\text{crít}$ con 2 cifras significativas). Use la condición de CFL para probar valores de manera educada.\n",
        "\n",
        "Gracias al conocimiento físico que tenemos sobre este problema, podemos concluir que para $t \\gtrsim 1/ \\nu = 10$ la solución transitoria deja de ser dominante y debería obtenerse un perfil escencialmente lineal dado por $f(x) = x$. Verifique que en todos los casos obtiene una convergencia a esta solución.\n",
        "\n",
        "> $\\text{c)}$ Grafique en escala loglog $\\Delta t^\\text{crít}$ vs. $\\Delta x$. ¿Obtiene la relación funcional esperada?"
      ]
    },
    {
      "cell_type": "markdown",
      "metadata": {
        "id": "D53V4DzUMkxb"
      },
      "source": [
        "**Su resolución acá**"
      ]
    },
    {
      "cell_type": "code",
      "metadata": {
        "id": "xuc404jCowZe"
      },
      "source": [
        "# Su resolución acá\n",
        "import numpy as np\n",
        "import matplotlib.pyplot as plt\n",
        "\n",
        "def integrar_difusion_1d_euler(f0, cc, dx, dt, tf, nu):\n",
        "    \"\"\"\n",
        "    Integra la ecuación de difusión 1D con condiciones de contorno de Dirichlet\n",
        "    (estacionarias). Utiliza diferencias finitas de segundo orden para la parte \n",
        "    espacial y Euler adelantado para la parte temporal.\n",
        "\n",
        "    Entradas:\n",
        "        `f0`: Vector (NX) con las condiciones iniciales para todos los puntos de\n",
        "                la grilla (incluídos los contornos).\n",
        "        `cc`: Arreglo (2) con la condición de Dirichlet para cada uno de los\n",
        "                contornos.\n",
        "        `dx`: Espaciamiento entre puntos en espacio.\n",
        "        `dt`: Espaciamiento entre puntos en tiempo.\n",
        "        `tf`: Tiempo final de integración.\n",
        "        `nu`: Difusividad (constante).\n",
        "    \n",
        "    Salida:\n",
        "        `f`:  Arreglo bidimensional f(t,x) con la solución para cada paso\n",
        "                temporal y para cada punto de la grilla (incluyendo los\n",
        "                contornos).\n",
        "    \"\"\"\n",
        "    from scipy.sparse import diags\n",
        "\n",
        "    nx    = f0.size - 2                 # Cantidad de puntos interiores\n",
        "\n",
        "    pasos = int(round(tf/dt))           # Cantidad de pasos temporales\n",
        "\n",
        "    f     = np.zeros( (pasos+1, nx) )   # Variable para guardar la integración\n",
        "    f[0]  = f0[1:-1]                    # Condición inicial\n",
        "\n",
        "    # -------------- NO MODIFICAR ARRIBA DE ESTA LÍNEA -------------------------\n",
        "\n",
        "    # COMPLETAR: Obtener operadores que permitan estimar la derivada segunda en\n",
        "    # cada punto interior del dominio. Recuerde que para ajustar el primer y el\n",
        "    # último punto interior deberá utilizar un vector que contemple las\n",
        "    # condiciones de contorno.\n",
        "    # --------------------------------------------------------------------------\n",
        "\n",
        "    for n in range(pasos):\n",
        "        # COMPLETAR: Integrar utilizando Euler adelantado\n",
        "\n",
        "    # ----------------- NO MODIFICAR DEBAJO DE ESTA LÍNEA ----------------------\n",
        "    \n",
        "    # Agrego los bordes y devuelvo el resultado de la integración\n",
        "    f = np.hstack((cc[0]*np.ones((pasos+1,1)), f, cc[1]*np.ones((pasos+1,1)) ))\n",
        "    \n",
        "    f[0,[0,-1]] = f0[[0,-1]]\n",
        "    return f"
      ],
      "execution_count": null,
      "outputs": []
    },
    {
      "cell_type": "markdown",
      "metadata": {
        "id": "7aN0j-WlpOx1"
      },
      "source": [
        "---"
      ]
    },
    {
      "cell_type": "markdown",
      "metadata": {
        "id": "gF1o23nu-ClR"
      },
      "source": [
        "## **Problema 3: Crank-Nicolson y diferencias finitas centradas (1D)**"
      ]
    },
    {
      "cell_type": "markdown",
      "metadata": {
        "id": "76Rd6-3Lo2yd"
      },
      "source": [
        "Escriba una función `integrar_difusion_1d_cn` que utilice el esquema de Crank-Nicolson para integrar en tiempo la ecuación de difusión con condiciones de tipo Dirichlet, considerando un operador centrado de segundo orden para estimar la derivada segunda espacial. Luego, repita la integración llevada a cabo en el problema anterior, obteniendo el valor $\\Delta t^\\text{crít}$ para cada resolución espacial. _Ayuda: intente primeramente expresar el problema de la forma_\n",
        "\\begin{equation*}\n",
        "    \\mathbf f^{n+1} = A \\mathbf g^n,\n",
        "\\end{equation*}\n",
        "_donde $A$ es una matriz independiente del tiempo y $\\mathbf g$ un vector que depende de $\\mathbf f^n$._"
      ]
    },
    {
      "cell_type": "markdown",
      "metadata": {
        "id": "ijj-1KgHoy8b"
      },
      "source": [
        "**Su resolución acá**"
      ]
    },
    {
      "cell_type": "code",
      "metadata": {
        "id": "6072AjjKMr7k"
      },
      "source": [
        "# Su resolución acá"
      ],
      "execution_count": null,
      "outputs": []
    },
    {
      "cell_type": "markdown",
      "metadata": {
        "id": "7C29XGuPIec5"
      },
      "source": [
        "---"
      ]
    },
    {
      "cell_type": "markdown",
      "metadata": {
        "id": "ZF-N777M9hBE"
      },
      "source": [
        "## **Problema 4: Orden de esquemas para la ecuación de difusión**"
      ]
    },
    {
      "cell_type": "markdown",
      "metadata": {
        "id": "KsCoRIp4-i0M"
      },
      "source": [
        "Considere ahora la ecuación de difusión 1D con condiciones de contorno periódicas en el dominio $x \\in [0, 2\\pi)$, $t \\in [0, 1]$:\n",
        "\\begin{equation*}\n",
        "    \\frac{\\partial f}{\\partial t} - \\nu \\frac{\\partial^2 f}{\\partial x^2} = 0, \\qquad \\qquad\n",
        "    f(0,x) = \\mathrm{sen}(kx).\n",
        "\\end{equation*}\n",
        "\n",
        "Empleando $\\nu = 1 \\times 10^{-1}$ y $k = 1$, integre este sistema utilizando diferencias finitas centradas de sexto orden conjugadas con los siguientes integradores temporales:\n",
        "\n",
        "> $\\text{a)}$ Euler adelantado;\n",
        "\n",
        "> $\\text{b)}$ Runge-Kutta de segundo orden (punto medio);\n",
        "\n",
        "> $\\text{c)}$ Crank-Nicolson.\n",
        "\n",
        "_Ayuda: Puede usar la función `diferenciacion_centrada_periodica` definida en el apunte que acompaña a esta práctica para obtener un operador de sexto orden espacial._\n",
        "\n",
        "<br>\n",
        "\n",
        "Este problema tiene como solución analítica $f(t,x) = e^{-\\nu k^2 t} \\mathrm{sen}(kx)$. Puede obtener un arreglo `f[t, x]` mediante la siguiente función\n",
        "```python\n",
        "def difusion_seno_analitica(x, t, k, nu):\n",
        "    f = np.exp(-nu*k**2*t[:,None])*np.sin(k*x[None,:])\n",
        "    return f\n",
        "```\n",
        "Utilizando esta información:\n",
        "\n",
        "> $\\text{d)}$ Integre este problema para los métodos anteriores fijando $N_x = 64$ puntos de grilla y considerando $\\Delta t = \\{2,5\\times10^{-2}; 1\\times 10^{-2};5\\times10^{-3}; 2,5\\times 10^{-3}\\}$. Calcule la norma infinito del error para cada caso y grafíquela en función de $\\Delta t$. ¿Qué orden de convergencia temporal observa en cada caso?\n"
      ]
    },
    {
      "cell_type": "code",
      "metadata": {
        "id": "b2aloK3YBNZJ"
      },
      "source": [
        "# Su resolución acá"
      ],
      "execution_count": null,
      "outputs": []
    },
    {
      "cell_type": "markdown",
      "metadata": {
        "id": "U96gA-kNpNSk"
      },
      "source": [
        "---"
      ]
    },
    {
      "cell_type": "markdown",
      "metadata": {
        "id": "NOHP_XSs_Ke3"
      },
      "source": [
        "## **Problema 5: Ecuación de difusión (2D)**\n",
        "Considere ahora el problema de difusión 2D en el dominio $(x,y) \\in [0, L_x] \\times [0, L_y]$, $t \\in [0, t_f]$ con condiciones de contorno de Dirichlet estacionarias, dado por\n",
        "\\begin{equation*}\n",
        "\\frac{\\partial f}{\\partial t} - \\nu \\nabla^2 f = 0, \\qquad \\qquad \\begin{cases}\n",
        "f(t, 0, y)   &= g(y)\\\\\n",
        "f(t, L_x, y) &= h(y)\\\\\n",
        "f(t, x, 0)   &= u(x)\\\\\n",
        "f(t, x, L_y) &= v(x)\\\\\n",
        "f(0, x, y)   &= f_0(x,y)\n",
        "\\end{cases}.\n",
        "\\end{equation*}\n",
        "Se permite además la presencia de discontinuidades en los puntos $(x,y) \\in \\{(0,0); (0,L_y); (L_x, 0); (L_x,L_y)\\}$ (i.e. en las esquinas).\n",
        "\n",
        "El objetivo de este ejercicio es escribir una función `integrar_difusion_2d` que integre la ecuación de difusion 2D con condiciones de contorno de tipo Dirichlet estacionarias. La misma deberá recibir la condición inicial, la condición sobre cada uno de los cuatro contornos, el espaciamiento de cada grilla, el paso temporal y la difusividad. La integración deberá llevarse a cabo utilizando diferencias finitas centradas de segundo orden en cada una de las direcciones espaciales y un integrador temporal de tipo Runge-Kutta explícito de orden ajustable.\n",
        "\n",
        "En la siguiente celda se adjunta un esqueleto del código que se encarga de seleccionar los puntos interiores (los únicos que hay que evolucionar en el tiempo) y de volver a agregar los contornos al final de la integración. Deberán implementar ustedes los operadores de derivación, agregando términos apropiados para contemplar las condiciones de contorno. Para validar su código le sugerimos que itere entre las siguientes actividades:\n",
        "\n",
        "> $\\text{a)}$ Complete la función `integrar_difusion_2d`.\n",
        "\n",
        "<br>\n",
        "\n",
        "Considerando $L_x = L_y = 1$, $N_x = N_y = 32$, $\\nu = 10^{-1}$, $\\Delta t = 10^{-3}$ y $t_f = 15$:\n",
        "\n",
        "> $\\text{b)}$ Verifique que para $g = h = u = v = f_0 = 1$ obtiene la solución\n",
        "$f(t,x,y) = 1$.\n",
        "\n",
        "> $\\text{c)}$ Verifique que para $g = 0$, $h = 4$, $u = v = 4x/L_x$ y $f_0 = 0$ su solución converge a la solución estacionaria $f(x,y) = 4x/L_x$. _Ayuda: puede graficar un perfil la solución obtenida para 3 o 4 cortes con valores representativos de la coordenada $y$ (ej: cerca de los bordes y en el centro) y verificar que obtiene la recta mencionada._\n",
        "\n",
        "> $\\text{d)}$ Verifique que para $g = 0$, $h = 4$, $u = 2$, $v=5$, $f_0 = 0$ obtiene resultados consistentes con la Figura 1.\n",
        "\n",
        "<br>\n",
        "\n",
        "> $\\text{e)}$ Utilizando las mismas condiciones iniciales y de contorno que en el problema $\\text{d)}$, pero considerando $L_x = 1$, $L_y = 3$, $N_x = 32$, $N_y = 128$, debería obtener resultados consistentes con la Figura 2.\n",
        "\n",
        "_Ayuda: Para los incisos $\\text{d)}$ y $\\text{e)}$ recuerde que dado un arreglo `f(x,y)` que representa los valores de la función sobre el producto cartesiano de las grillas `x` e `y`, puede obtener un mapa de color de `f` como_\n",
        "```python\n",
        "fig, ax = plt.subplots(1,1)\n",
        "col = ax.imshow(f.T, origin=\"lower\", extent=(x[0], x[-1], y[0], y[-1]) )\n",
        "fig.colorbar(col)\n",
        "```"
      ]
    },
    {
      "cell_type": "markdown",
      "metadata": {
        "id": "I8_URXC_W1ss"
      },
      "source": [
        "![Screenshot from 2021-10-01 11-56-42.png](data:image/png;base64,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)"
      ]
    },
    {
      "cell_type": "markdown",
      "metadata": {
        "id": "AsPMVuCjpEwa"
      },
      "source": [
        "**Su resolución acá**"
      ]
    },
    {
      "cell_type": "code",
      "metadata": {
        "id": "gWkKI_kqMv8w"
      },
      "source": [
        "# Su solución acá\n",
        "\n",
        "import numpy as np\n",
        "import matplotlib.pyplot as plt\n",
        "\n",
        "def integrar_difusion_2d(f0, ccx, ccy, dx, dy, dt, tf, nu, orden_t=1):\n",
        "    \"\"\"\n",
        "        Integra la ecuación de difusión 2D con condiciones de contorno de tipo\n",
        "    Dirichlet estacionarias. Utiliza diferencias finitas de segundo orden para\n",
        "    la parte espacial y un método de Runge-Kutta explícito de orden variable\n",
        "    para la parte temporal.\n",
        "\n",
        "    Entradas:\n",
        "        `f0`:  Arreglo bidimensional (NX,NY), con las condiciones iniciales para\n",
        "                todos los puntos de la grilla (incluídos los contornos).\n",
        "        `ccx`: Arreglo bidimensional (2,NY) con los valores con la condición de\n",
        "                Dirichlet para x=0 (ccx[0]) y x=Lx (ccx[1]).\n",
        "        `ccy`: Arreglo bidimensional (2,NX) con los valores con la condición de\n",
        "                Dirichlet para y=0 (ccy[0]) y y=Ly (ccy[1]).                \n",
        "        `dx`: Espaciamiento entre puntos en la dirección x.\n",
        "        `dy`: Espaciamiento entre puntos en la dirección y.\n",
        "        `dt`: Espaciamiento entre puntos en tiempo.\n",
        "        `tf`: Tiempo final de integración.\n",
        "        `nu`: Difusividad (constante).\n",
        "\n",
        "        `orden_t`: Orden de la integración temporal (OPCIONAL)\n",
        "    \n",
        "    Salida:\n",
        "        `f`:  Arreglo tridimensional f(t,x,y) con la solución para cada paso\n",
        "                temporal y para cada punto de la grilla (incluyendo los\n",
        "                contornos).\n",
        "    \"\"\"\n",
        "    from scipy.sparse import diags\n",
        "\n",
        "    # Cantidad de pasos temporales a realizar\n",
        "    pasos = int(round(tf/dt))\n",
        "\n",
        "    # Cantidad de puntos interiores en cada dirección\n",
        "    nx, ny = f0.shape[0]-2, f0.shape[1]-2\n",
        "\n",
        "    # Arreglo que va a contener a la solución\n",
        "    f    = np.zeros( (pasos+1, nx, ny) )\n",
        "    f[0] = f0[1:-1,1:-1]\n",
        "\n",
        "    # -------------- NO MODIFICAR ARRIBA DE ESTA LÍNEA -------------------------\n",
        "\n",
        "    # COMPLETAR: Obtener operadores que permitan estimar la derivada segunda en\n",
        "    # cada dirección para cada punto interior del dominio.\n",
        "    # Recuerde que para la primer y la última tira de puntos en cada dirección \n",
        "    # deberá utilizar una matrices que contemple condiciones de contorno.\n",
        "    # --------------------------------------------------------------------------\n",
        "\n",
        "    for n in range(pasos):\n",
        "        # COMPLETAR: Integrar utilizando Runge-Kutta de orden `orden_t`.\n",
        "\n",
        "    # ----------------- NO MODIFICAR DEBAJO DE ESTA LÍNEA ----------------------\n",
        "    \n",
        "    # Agrego los bordes\n",
        "    f = np.hstack((ccx[0,None,1:-1]*np.ones( (pasos+1,1,ny) ), f,\n",
        "                   ccx[1,None,1:-1]*np.ones( (pasos+1,1,ny) ) ))\n",
        "    f = np.dstack((ccy[0,:,None]*np.ones( (pasos+1,nx+2,1) ), f,\n",
        "                   ccy[1,:,None]*np.ones( (pasos+1,nx+2,1) ) ))\n",
        "\n",
        "    # Para t=0 considero los bordes de la condición inicial\n",
        "    f[0,1:-1,1:-1]               = f0[1:-1,1:-1]\n",
        "    f[:,[0,0,-1,-1],[0,-1,0,-1]] = np.nan         # Remuevo las esquinas\n",
        "\n",
        "    return f"
      ],
      "execution_count": null,
      "outputs": []
    },
    {
      "cell_type": "markdown",
      "metadata": {
        "id": "a3drdSvupLsL"
      },
      "source": [
        "---"
      ]
    },
    {
      "cell_type": "markdown",
      "metadata": {
        "id": "ik3l3lgc5bE8"
      },
      "source": [
        "## **Problema 6: Ecuación de advección-difusión 1D con forzado**"
      ]
    },
    {
      "cell_type": "markdown",
      "metadata": {
        "id": "J6yI1Pr2iBQD"
      },
      "source": [
        "Considere ahora la ecuación de advección-difusión 1D con condiciones de contorno periódicas en el recinto $x \\in [0, L_x)$ y para $0 \\le t \\le t_f$.\n",
        "\\begin{equation*}\n",
        "    \\frac{\\partial C}{\\partial t} + u \\frac{\\partial C}{\\partial x} - \\nu     \\frac{\\partial^2 C}{\\partial x^2} = f(t, x), \\qquad \\qquad C(t, 0) = C(t, L_x), \\qquad C(0, x) = C_0(x).\n",
        "\\end{equation*}\n",
        "\n",
        "Para fijar ideas, podemos considerar que $C$ es la concentración de una cierta especie en un flujo base que se mueve a velocidad uniforme $u$. Dicha concentración, difunde en el tiempo con una cierte difusividad $\\nu$. $f$, denominado en forma general como forzado, representa en esta situación física la liberación de dicha especie para cada instante temporal.\n",
        "\n",
        "> $\\text{a)}$ Escriba una función `integrar_adveccion_difusion_1d` que integre el problema mencionado más arriba. Dicha función deberá recibir la concentración inicial $C_0$, un forzado estacionario $f$, los parámetros de la discretización $\\Delta x$ y $\\Delta t$, el tiempo final de la integración $t_f$, la velocidad de advección $u$ y la difusividad $\\nu$. La integración deberá realizarse con un esquema centrado de ordenes 2, 4, 6 u 8 para la parte espacial y un método de Runge-Kutta explícito de orden ajustable. El órden de cada descomposición deberá ser un argumento opcional de la función `integrar_adveccion_difusion_1d`. Le adjuntamos una estructura que puede utilizar para este fin.\n",
        "\n",
        "<br>\n",
        "\n",
        "> $\\text{b)}$ Considere una condición inicial y forzado gaussianos de la forma\n",
        "\\begin{align*}\n",
        "    C_0(x) &= \\exp \\left(- \\frac{(x - L_x/2)^2}{2 \\left( \\frac{L_x}{16}\\right)^2} \\right),\\\\\n",
        "    f(x) &= C_0(x) - \\langle C_0(x) \\rangle.\n",
        "\\end{align*}\n",
        "donde $\\langle \\rangle$ representa el valor medio espacial (puede calcularlo numéricamente con `numpy.mean`). Utilizando su conocimiento sobre las ecuaciones de advección y difusión, ¿cómo espera que sea la solución estacionaria de este problema?.\n",
        "\n",
        "> $\\text{c)}$ Ponga a prueba ahora su intuición resolviendo el problema para $L_x = 2\\pi$, $N_x = 256$, $\\Delta t = 10^{-3}$, $t_f = 50$, $u = 1$ y $\\nu = 10^{-1}$. Verifique que obtiene una solución aproximadamente estacionaria y acorde a lo esperado. Utilice esquemas de segundo orden tanto temporal como espacial. <br>\n",
        "> _En caso que su integración no permanezca estable o parezca dar resultados contrarios a la intuición, pruebe su desempeño al considerar un forzado nulo y los casos límites $\\nu = 0$ y $u = 0$. Debería recuperar la dinámica ya estudiada de la advección lineal y la difusión lineal, respectivamente._\n",
        "\n",
        "> $\\text{d)}$ Derive una ecuación de balance para la variación temporal de la energía, definida como\n",
        "\\begin{equation*}\n",
        "    \\frac{\\mathrm d E}{\\mathrm d t} = \\frac{\\mathrm d}{\\mathrm d t} \\int_0^{L_x} \\frac{C^2}{2} \\ \\mathrm{d}x.\n",
        "\\end{equation*}\n",
        "\n",
        "> $\\text{e)}$ Verifique que su solución verifica para todo tiempo la ecuación de balance hallada (de manera aproximada). Para ello le facilitamos la función `balance_advección_difusión` que calcula algunos términos que intervienen en la ecuación de balance. Compruebe además que dicha ecuación se verifica de forma más precisa conforme aumenta el orden de aproximación, tanto temporal como espacial.\n",
        "\n",
        "<br>\n",
        "\n",
        "_Ayuda: puede utilizar el código adjunto en el apunte que acompaña a esta práctica para obtener operadores diferenciales apropiados._\n",
        "\n",
        "_Sugerencia: como siempre, integre para unos pocos pasos temporales y resoluciones menores hasta tener una mayor certeza sobre la estabilidad y validez del método de integración._"
      ]
    },
    {
      "cell_type": "code",
      "metadata": {
        "id": "MByWfnCCnx0R"
      },
      "source": [
        "# Su resolución acá\n",
        "\n",
        "import numpy as np\n",
        "import matplotlib.pyplot as plt\n",
        "\n",
        "def integrate_advection_diffusion_1d(C0, f, dx, dt, tf, u, nu,\n",
        "                                     orden_x=2, orden_t=2):\n",
        "    \"\"\"\n",
        "        Integra la ecuación de advección-difusión 1D con condiciones de contorno\n",
        "    periódicas. Las derivadas se obtienen con esquemas centrados de órden\n",
        "    arbitrario y la integración temporal obedece un esquema explícito de\n",
        "    Runge-Kutta de orden ajustable.\n",
        "\n",
        "    Entradas:\n",
        "      - `C0`: Vector (Nx) con la concentración inicial.\n",
        "      - `f` : Vector (Nx) con el forzado (estacionario).\n",
        "      - `dx`: Espaciamiento entre puntos.\n",
        "      - `dt`: Paso temporal.\n",
        "      - `tf`: Tiempo final de integración.\n",
        "      - `u` : Velocidad de advección.\n",
        "      - `nu`: Difusividad.\n",
        "\n",
        "      - `orden_x`: Orden en la estimación de derivadas espaciales. (OPCIONAL)\n",
        "      - `orden_t`: Orden para la integracion temporal. (OPCIONAL)\n",
        "    \n",
        "    Salida:\n",
        "      - `C`: Arreglo bidimensional (t,x) con la concentración para cada tiempo y\n",
        "                para cada punto del espacio.\n",
        "    \"\"\"\n",
        "    from scipy.sparse import diags\n",
        "\n",
        "    nx = C0.size\n",
        "\n",
        "    pasos = int(round(tf/dt))\n",
        "\n",
        "    C       = np.zeros( (pasos+1, nx) )\n",
        "    C[0]    = C0\n",
        "\n",
        "    # -------------- NO MODIFICAR ARRIBA DE ESTA LÍNEA -------------------------\n",
        "\n",
        "    # COMPLETAR: Obtener operadores que permitan estimar las derivadas\n",
        "    # necesarias.\n",
        "    # --------------------------------------------------------------------------\n",
        "\n",
        "    for n in range(pasos):\n",
        "        # COMPLETAR: Integrar utilizando un esquema de Runge-Kutta de orden\n",
        "        # adaptable.\n",
        " \n",
        "    return C"
      ],
      "execution_count": null,
      "outputs": []
    },
    {
      "cell_type": "code",
      "metadata": {
        "id": "EYZmuAxZitVq"
      },
      "source": [
        "# Instalar el paquete findiff\n",
        "!pip install findiff\n",
        "def balance_adveccion_difusion(C, f, dx, dt):\n",
        "    \"\"\"\n",
        "        Calcula cuadraturas de interés para la ecuación de balance energético\n",
        "    asociada a la ecuación de advección-difusión 1D con condiciones de contorno\n",
        "    periódicas.\n",
        "\n",
        "    Entradas:\n",
        "        - `C`:  Arreglo bidimensional (t, x) con la concentración.\n",
        "        - `f`:  Vector (NX) con el forzado.\n",
        "        - `nu`: Difusividad.\n",
        "        - `dx`: Distancia entre puntos en espacio.\n",
        "        - `dt`: Paso temporal.\n",
        "    \n",
        "    Salidas:\n",
        "        - Et:  Derivada temporal de integral(C^2/2 * dx) para cada tiempo.\n",
        "        - vol: Integral de la cantidad (dC/dx)^2 en espacio para cada tiempo.\n",
        "        - iny: Integral de la cantidad C*f en espacio para cada tiempo.\n",
        "    \"\"\"\n",
        "    from findiff import FinDiff\n",
        "    from scipy import integrate\n",
        "\n",
        "    #  Pequeño hack para unificar los nombres de Simpson en versiones viejas y\n",
        "    # nuevas de Scipy\n",
        "    try:\n",
        "        simpson = integrate.simpson\n",
        "    except:\n",
        "        simpson = integrate.simps\n",
        "\n",
        "    # Defino los operadores espaciales\n",
        "    d_dt = FinDiff(0, dt, acc=8)\n",
        "    d_dx = FinDiff(1, dx, acc=8)\n",
        "\n",
        "    # Agrego el primer punto al final, dado que el dominio es periódico.\n",
        "    C = np.hstack(( C, C[:,0].reshape(-1,1) ))\n",
        "    f = np.hstack(( f, np.array([f[0]]) ))\n",
        "\n",
        "    # Calculo las cantidades de interés y las integro.\n",
        "    E   = simpson(C**2/2, dx=dx, axis=1)\n",
        "    Et  = d_dt(E)\n",
        "    Cx  = d_dx(C)\n",
        "    vol = simpson(Cx**2, dx=dx, axis=1)\n",
        "    iny = simpson(C * f[None,:], dx=dx, axis=1)\n",
        "\n",
        "    return Et, vol, iny"
      ],
      "execution_count": null,
      "outputs": []
    },
    {
      "cell_type": "markdown",
      "metadata": {
        "id": "qFSqjCCc5o6L"
      },
      "source": [
        "---"
      ]
    },
    {
      "cell_type": "markdown",
      "metadata": {
        "id": "NayJrc7pxHAK"
      },
      "source": [
        "## **Problema 7: Ecuación de Burguers viscosa**"
      ]
    },
    {
      "cell_type": "markdown",
      "metadata": {
        "id": "n_eYFb3oxIcN"
      },
      "source": [
        "El último problema que consideraremos en esta guía es un problema no-lineal, parcialmente conocido por ustedes: la ecuación de Burgers (esta vez su versión completa). La misma está dada por\n",
        "\\begin{equation*}\n",
        "    \\frac{\\partial u}{\\partial t} + u \\frac{\\partial u}{\\partial x} = \\nu \\frac{\\partial^2 u}{\\partial x^2}.\n",
        "\\end{equation*}\n",
        "\n",
        "> $\\text{a)}$ Obtenga una ecuación para la evolución temporal de los gradientes de velocidad $\\omega = \\partial_x u$. ¿Cómo se modifican las conclusiones obtenidas para la forma invíscida de esta ecuación vistas en la práctica anterior? ¿Espera que ésta ecuación desarrolle singularidades a tiempo finito?\n",
        "\n",
        "> $\\text{b)}$ Derive una ecuación de balance para la variación temporal de la energía asociada al campo de velocidades $\\mathrm{d}_t E = \\mathrm{d}_t \\int_0^{L_x} \\frac{u^2}{2} \\ \\mathrm d x$.\n",
        "\n",
        "> $\\text{c)}$ Muestre que la siguiente familia de funciones\n",
        "\\begin{equation*}\n",
        "    U(t, x) = \\kappa \\left[1 - \\tanh\\left( \\frac{\\kappa (x - \\kappa t - x_c)}{2\\nu} \\right) \\right],\n",
        "\\end{equation*}\n",
        "verifican la ecuación de Burgers.\n",
        "\n",
        "<br>\n",
        "\n",
        "Consideramos el problema de valores iniciales y de contorno dado por $x \\in [0, L_x]$, $0 \\le t \\le t_f$ y condiciones de contorno de tipo Dirichlet. En particular, las condiciones de contorno dependen del tiempo y están dadas por $U(t,0)$, $U(t, L_x)$ (es decir, las obtenemos de la solución analítica propuesta en el inciso anterior). Análogamente, la condición inicial está dada por $U(0,x)$.\n",
        "\n",
        "Fijando en particular $L_x = 10$, $t_f = 12$, $x_c=2$, $\\nu = 10^{-1}$ y $\\kappa = 5\\times 10^{-1}$, integre la ecuación de Burgers utilizando diferencias finitas centradas de segundo orden para los operadores espaciales y un método de Runge-Kutta de orden 1 o 2 (programe ambas variantes) para la integración temporal.\n",
        "\n",
        "> $\\text{d)}$ Integre para $\\Delta t = 10^{-4}$ considerando $N_x \\in \\{32, 64, 128\\}$ y calcule el error comparando con la solución analítica. Verifique que obtiene un orden de convergencia aproximadamente cuadrático graficando el error $\\epsilon$ vs. $N_x$ en escala logarítmica. Utilice una métrica de su elección para calcular el error $\\epsilon$.\n",
        "\n",
        "> $\\text{e)}$ Verifique que integrando para $\\Delta t = 10^{-3}$ y $N_x = 128$ la ecuación de para la energía se verifica con al menos 3 dígitos significativos. Para ello le proveemos la función `balance_burgers` que computa algunos términos que podrían serle de utilidad.\n",
        "\n",
        "> $\\text{f)}$ **(OPCIONAL)** Estudie el balance de la energía cinética cuando utiliza un esquema de Arakawa para el término no-lineal."
      ]
    },
    {
      "cell_type": "code",
      "metadata": {
        "id": "7Ck2US35jkWu"
      },
      "source": [
        "# Su resolución acá\n",
        "\n",
        "!pip install findiff\n",
        "def balance_burgers(u, dx, dt):\n",
        "    \"\"\"\n",
        "        Calcula cuadraturas de interés para la ecuación de balance energético\n",
        "    asociada a la ecuación de Burgers.\n",
        "\n",
        "    Entradas:\n",
        "        - `u`:  Arreglo bidimensional (t, x) con el campo de velocidades.\n",
        "        - `nu`: Difusividad.\n",
        "        - `dx`: Distancia entre puntos en espacio.\n",
        "        - `dt`: Paso temporal.\n",
        "    \n",
        "    Salidas:\n",
        "        - Et:  Derivada temporal de integral(u^2/2 * dx) para cada tiempo.\n",
        "        - vol: Integral de la cantidad (du/dx)^2 en espacio para cada tiempo.\n",
        "    \"\"\"\n",
        "    from findiff import FinDiff\n",
        "    from scipy import integrate\n",
        "\n",
        "    #  Pequeño hack para unificar los nombres de Simpson en versiones viejas y\n",
        "    # nuevas de Scipy\n",
        "    try:\n",
        "        simpson = integrate.simpson\n",
        "    except:\n",
        "        simpson = integrate.simps\n",
        "\n",
        "    # Defino los operadores diferenciales\n",
        "    d_dt = FinDiff(0, dt, acc=8)\n",
        "    d_dx = FinDiff(1, dx, acc=8)\n",
        "\n",
        "    # Calculo las cantidades de interés y las integro de ser necesario\n",
        "    E   = simpson(U**2/2, dx=dx, axis=1)\n",
        "    dE  = d_dt(E)\n",
        "    ux  = d_dx(u)\n",
        "    sup_vis = u[:,-1]*ux[:,-1] -  u[:,0]*ux[:,0]\n",
        "    sup_flu = 1/3*u[:,0 ]**3   - 1/3*u[:,-1]**3\n",
        "    vol = simpson(ux**2, dx=dx, axis=1)\n",
        "\n",
        "    return dE, vol, sup_vis, sup_flu"
      ],
      "execution_count": null,
      "outputs": []
    },
    {
      "cell_type": "markdown",
      "metadata": {
        "id": "8ZiZ7vQsjXmM"
      },
      "source": [
        "---\n",
        "---"
      ]
    },
    {
      "cell_type": "markdown",
      "metadata": {
        "id": "4r8JUq_KbbUJ"
      },
      "source": [
        "<a name=\"explicacion\"></a>\n",
        "\n",
        "# **Ecuaciones parabólicas**"
      ]
    },
    {
      "cell_type": "markdown",
      "metadata": {
        "id": "gbDBJnE_oR3k"
      },
      "source": [
        "En esta práctica vamos a estar trabajando con ecuaciones parabólicas. Las mismas se caracterizan por fenómenos que se propagan de manera inmediata a todo el espacio. Un ejemplo de este tipo de ecuaciones es la ecuación de difusión del calor en ausencia de fuentes, dada por\n",
        "\\begin{equation*}\n",
        "    \\frac{\\partial T}{\\partial t} - \\nu \\nabla^2 T = 0 \\tag{1},\n",
        "\\end{equation*}\n",
        "con $T$ el campo de temperatura y $\\nu$ la difusividad térmica (se la asumió constante). Si bien suele usarse $\\kappa$ para denotar a ésta última cantidad, utilizaremos $\\nu$ en adelante por consistencia con el resto de este documento.\n",
        "\n",
        "Si bien ecuaciones de este estilo violan la visión relativista de la física y la naturaleza (donde la propagación local de información no puede exceder a la velocidad de la luz en el vacío), pueden resultar extremadamente utiles para modelar fenomenología muy diversa.\n",
        "\n",
        "Sin embargo, aunque su simplicidad conceptual resulta atractiva, numéricamente puede conllevar algunas dificultades con respecto a los sistemas hiperbólicos de la práctica previa, dado que el dominio de dependencia para un cierto punto en el futuro se vuelve infinito (asociado a una velocidad de propagación de la información infinita). Sin embargo, aún cuando la solución rigurosamente depende del estado previo en cada punto del dominio físico, la mayor contribución a la solución está dada por los puntos más cercanos a donde queramos calcular nuestra solución. Por tanto, dada una cierta precisión buscada, tendremos un dominio de dependencia finito. Este argumento debería corresponderse con su vivencia diaria. Si toman una placa de metal lo suficientemente grande y colocan un encendedor en una punta, no sienten de forma inmediata un cambio apreciable en la temperatura en la punta opuesta al encendedor, aún cuando el fenómeno se describe de forma extremadamente exitosa mediante la ecuación (1).\n",
        "\n",
        "No obstante, incluso definiendo un dominio de dependencia \"práctico\", las ecuaciones parabólicas pueden ser desafiantes numéricamente, o rígidas utilizando una expresión más apropiada en el contexto de métodos numéricos. Esto van a descubrirlo por ustedes mismos en los ejercicios 1 y 2, donde verán que mejorar la resolución espacial es mucho más penalizante sobre la estabilidad un integrador explíta comparado con los problemas hiperbólicos de la práctica 1. Asimismo, los problemas parabólicos pueden generar en algunos escenarios capas límites$^\\dagger$ muy finas, que a su vez volverán imprescindible utilizar resoluciones espaciales altas y podrían resultar en que la integración explícita de un sistema parabólico sea inviable.\n",
        "\n",
        "$^\\dagger$: regiones donde hay un cambio cualtiativo en la dinámica del sistema que por tanto deben resolverse correctamente. Un ejemplo de esta fenomenología es la capa límite de Prandtl para un flujo viscoso paralelo a una placa sólida estacionaria."
      ]
    },
    {
      "cell_type": "markdown",
      "metadata": {
        "id": "jxoLihvexTUo"
      },
      "source": [
        "## **Crank-Nicolson**"
      ]
    },
    {
      "cell_type": "markdown",
      "metadata": {
        "id": "oMkK1HMqxYQb"
      },
      "source": [
        "La estrategia utilizada en la práctica previa para resolver sistemas hiperbólicos seguirá siendo aplicable para resolver sistemas parabólicos. Esto es, podremos utilizar el método de líneas, obteniendo versiones discretas de los operadores diferenciales espaciales e integrando el sistema de EDOs resultante mediante algún integrador temporal. Estos operadores espaciales podrán ser aproximaciones en diferencias, i.e. diferencias finitas.\n",
        "\n",
        "Sin embargo, como se desprende de la discusión previa, esta estrategia aparejada con un integrador temporal explícito no gozará, en general, de buenas características de estabilidad. Esto es particularmente cierto para $\\nu \\gg 1$ y para sistemas que desarrollen escalas muy pequeñas que nuestra grilla espacial deberá capturar.\n",
        "\n",
        "En particular, para la ecuación de calor a difusividad constante y para numerosos problemas de interés en la descripción de la naturaleza, la parte parabólica de la ecuación (i.e. el término difusivo) suele ser lineal, volviendo relativamente sencillo el uso de técnicas implícitas de integración temporal. Esta idea tuvieron [Crank y Nicolson](https://www.cambridge.org/core/journals/mathematical-proceedings-of-the-cambridge-philosophical-society/article/abs/practical-method-for-numerical-evaluation-of-solutions-of-partial-differential-equations-of-the-heatconduction-type/B3230893A53384D418228AB39D41A451), quienes propusieron utilizar un método de Adams-Moulton de 2do orden (i.e. la regla trapezoidal) para integrar el término difusivo de la ecuación de calor. De esta manera, sea $\\mathcal L$ el operador discreto que aproxima a $\\nu \\nabla^2$, el método de Crank-Nicolson aplicado a la ecuación de difusión de temperatura resulta\n",
        "\\begin{equation*}\n",
        "    T^{n+1} = T^n + \\frac{\\Delta t}{2} \\left( \\mathcal L\\{T^n\\} + \\mathcal L \\{ T^{n+1}\\} \\right).\n",
        "\\end{equation*}\n",
        "\n",
        "En la notación usual del curso, y considerando el caso 1D por simplicidad, $\\mathcal L (T^n)$ va a poder representarse como $\\nu D_{xx} \\mathbf{T}^n$ y de esta manera basta con obtener $A = (\\mathbb I - \\frac{\\nu \\Delta t}{2} D_{xx} )^{-1}$ antes de comenzar la integración temporal para poder aplicar eficientemente el siguiente esquema para integrar en tiempo\n",
        "\\begin{equation*}\n",
        "    \\mathbf T^{n+1} = A \\left( \\mathbf{T}^n + \\frac{\\nu \\Delta t}{2} D_{xx} \\mathbf T^n \\right).\n",
        "\\end{equation*}\n",
        "\n",
        "Naturalmente, el orden de aproximación espacial quedará dado por aquel asociado a $D_{xx}$, mientras que la intgración temporal resultará de 2do orden, como verificarán en el problema 3."
      ]
    },
    {
      "cell_type": "markdown",
      "metadata": {
        "id": "Dv8uZFNBMWTj"
      },
      "source": [
        "## **Problemas con dos dimensiones espaciales**"
      ]
    },
    {
      "cell_type": "markdown",
      "metadata": {
        "id": "gx1RnDgN_nX8"
      },
      "source": [
        "Como mencionamos hacia el final del apunte de la práctica previa (que les recomendamos fuertemente repasar), para resolver una EDP en un dominio que presenta dos dimensiones espaciales, una opción es generalizar las ideas que venimos tratando en 1 dimensión. Para ello, consideramos una grilla bidimensional sobre la que quedan definidas coordenadas discretas $(x_i, y_j) = (i \\Delta x + x_0, j \\Delta y + y_0)$. Naturalmente, $\\Delta x$ y $\\Delta y$ representan el espaciamiento uniforme en la dirección $x$ e $y$, respectivamente.\n",
        "\n",
        "De esta manera, si $f(t,x,y)$ es la función incógnita que buscamos obtener mediante una EDP, $f^n_{ij} = f(t^n, x_i, y_j)$ será nuestra aproximación discreta. Dadas condiciones iniciales apropiadas, hallar $f^n_{ij} = f(t^n, x_i, y_j)$ puede verse como evolucionar una matriz en el tiempo, dada por\n",
        "\\begin{equation*}\n",
        "    \\mathbb {F}^n = \\begin{pmatrix}\n",
        "f^n_{1,1} & f^n_{1,2} & f^n_{1,3} & \\dots & f^n_{1,N_y-1} \\\\\n",
        "f^n_{2,1} & f^n_{2,2} & f^n_{2,3} & \\dots & f^n_{2,N_y-1} \\\\\n",
        "\\vdots & \\vdots & \\vdots   & \\ddots & \\vdots \\\\\n",
        "f^n_{N_x-1,1} & f^n_{N_x-1,2} & f^n_{N_x-1,3} & \\dots & f^n_{N_x-1,N_y-1} \\\\\n",
        "\\end{pmatrix},\n",
        "\\end{equation*}\n",
        "donde consideramos que tenemos $N_x+2$ puntos en la discretización de la direccción $x$ y $N_y+2$ en la dirección $y$. Además, dado que contamos con condiciones de contorno apropiadas, no será necesario avanzar $f^n_{0,j}$, $f^n_{i,0}$, $f^n_{N_x,j}$, $f^n_{i,N_y}$ explícitamente en el tiempo.\n",
        "\n",
        "Para el cálculo de derivadas en la dirección $x$, podemos reutilizar la estrategia que venimos empleando para los problemas 1D. De esta forma, asumiendo que tenemos condiciones de contorno de Dirichlet en toda la frontera del dominio (i.e. conocemos explícitamente $f^n_{0,j}$, $f^n_{i,0}$, $f^n_{N_x,j}$, $f^n_{i,N_y}$), podemos escribir para cada línea con $y$ constante (i.e. cada columna de $\\mathbb F$)\n",
        "\\begin{equation*}\n",
        "    \\begin{pmatrix}\n",
        "    (\\partial_x f)^n_{1,j} \\\\\n",
        "    (\\partial_x f)^n_{2,j} \\\\\n",
        "    \\vdots \\\\\n",
        "    (\\partial_x f)_{N_x-1,j}\n",
        "    \\end{pmatrix} =  D_x \\begin{pmatrix}\n",
        "    f^n_{1,j} \\\\\n",
        "    f^n_{2,j} \\\\\n",
        "    \\vdots \\\\\n",
        "    f_{N_x-1,j}\n",
        "    \\end{pmatrix} + \\mathbf{b}_{(x) j},\n",
        "\\end{equation*}\n",
        "donde $\\mathbf b_{(x)j}$ es un vector columna que contiene a $f^n_{0,j}$ y $f^n_{N_x,j}$, escalados adecuadamene de manera que la estimación de $(\\partial_x f)^n_{1,j}$ y $(\\partial_x f)^n_{N_x,j}$. El resultado de realizar este procedimiento para cada linea con coordenada $y$ fija, puede sintetizarse en la operación matricial\n",
        "\\begin{equation*}\n",
        "    (\\partial x \\mathbb{F})^n = D_x \\mathbb{F}^n + \\mathbb{B}_{(x)},\n",
        "\\end{equation*}\n",
        "con $\\mathbb{B}_{(x)}$ la matriz que surge de apilar horizontalmente los distintos vectores columna $\\mathbf b_{(x)j}$.\n",
        "\n",
        "De manera análoga, sea $D_y$ un operador análogo a $D_x$ pero construido con los parámetros de la grilla en $y$, valdrá la siguiente ecuación para cada línea con $x$ fijo (i.e. cada fila de $\\mathbb F$)\n",
        "\\begin{equation*}\n",
        "    \\begin{pmatrix}\n",
        "        (\\partial_y f)^n_{i,1} & (\\partial_y f)^n_{i,2} & \\dots & (\\partial_y f)^n_{i,N_y-1} \n",
        "    \\end{pmatrix} = \\begin{pmatrix}\n",
        "        f^n_{i,1} & f^n_{i,2} & \\dots & f^n_{i,N_y-1} \n",
        "    \\end{pmatrix} D_y^t + \\mathbf b_{(y)i},\n",
        "\\end{equation*}\n",
        "donde $\\mathbf b_{(y)i}$ es un vector fila con función completamente análoga a aquella de $\\mathbf b_{(x)j}$. Nuevamente, esta operación aplicada simultáneamente a todas las líneas de $x$ constante podrá escribirse como\n",
        "\\begin{equation*}\n",
        "    (\\partial y \\mathbb{F})^n = \\mathbb{F}^n D_y^t + \\mathbb{B}_{(y)}.\n",
        "\\end{equation*}\n",
        "Noten que $D_y$ podría definirse directamente como su transpuesta, sin embargo resulta más claro conceptualmente definirlo de manera idéntica a como venimos definiendo $D_x$ y transponer luego debido a que debe operar sobre las filas en lugar de las columnas de $\\mathbb{F}$.\n",
        "\n",
        "**Definidos los correspondientes operadores espaciales, una vez más el problema se redujo a un conjunto finito de ecuaciones diferenciales ordinarias acopladas, que podemos evolucionar en el tiempo con cualquiera de los algoritmos de integración temporal que venimos usando en la materia.**"
      ]
    },
    {
      "cell_type": "markdown",
      "metadata": {
        "id": "FzaHMDkfRRsT"
      },
      "source": [
        "### **Esténcil de 5 puntos para el laplaciano**"
      ]
    },
    {
      "cell_type": "markdown",
      "metadata": {
        "id": "bIlcuh_FRWNM"
      },
      "source": [
        "Para fijar ideas, consideremos el esténcil de 5 puntos para el operador laplaciano, que surge sencillamente de aproximar\n",
        "\\begin{equation*}\n",
        "    \\nabla^2 f \\approx D^{(2)}_{xx} \\mathbb{F} + \\mathbb{F} D^{(2)t}_{yy} + \\mathbb{B},\n",
        "\\end{equation*}\n",
        "donde $D^{(2)}$ denota una diferencia finita centrada de segundo orden en cada dirección y $\\mathbb{B} = \\mathbb{B}_{(x)} + \\mathbb{B}_{(y)}$, en la notación anterior. La forma explícita de estas matrices resulta\n",
        "\\begin{equation*}\n",
        "    A = \\begin{pmatrix}\n",
        "    -2 & 1 & 0 & 0 & \\dots & 0 & 0 & 0 \\\\\n",
        "    1 & -2 & 1 & 0 & \\dots & 0 & 0 & 0 \\\\\n",
        "    0 & 1 & -2 & 1 & \\dots & 0 & 0 & 0 \\\\\n",
        "    \\vdots & \\vdots & \\vdots & \\vdots & \\ddots & & \\vdots & \\vdots \\\\\n",
        "    \\vdots & \\vdots & \\vdots & \\vdots & & \\ddots & \\vdots & \\vdots \\\\    \n",
        "    0 & 0 & 0 & 0 & \\dots & 1 & -2 & 1 \\\\    \n",
        "    0 & 0 & 0 & 0 & \\dots & 0 & 1 & -2\n",
        "    \\end{pmatrix}, \\qquad \\qquad D^{(2)}_{xx} = \\frac{1}{(\\Delta x)^2}A,\\qquad \\qquad    D^{(2)}_{yy} = \\frac{1}{(\\Delta y)^2}A,\n",
        "\\end{equation*}\n",
        "\\begin{equation*}\n",
        "    \\mathbb B = \\mathbb{B}_{(x)} + \\mathbb{B}_{(y)} = \\frac{1}{(\\Delta x)^2}\\begin{pmatrix}\n",
        "    f_{0,1} & f_{0,2} & \\dots & f_{0,N_y-2} & f_{0,N_y-1}\\\\\n",
        "    0 & 0 & \\dots & 0 & 0\\\\\n",
        "    \\vdots & \\vdots & \\ddots & \\vdots & \\vdots \\\\\n",
        "    0 & 0 & \\dots & 0 & 0\\\\\n",
        "    f_{N_x,1} & f_{N_x,2} & \\dots & f_{N_x,N_y-2} & f_{N_x,N_y-1}\n",
        "    \\end{pmatrix}\n",
        "    + \\frac{1}{(\\Delta y)^2}\\begin{pmatrix}\n",
        "    f_{1,0} & 0 & \\dots & 0 & f_{1,N_y}\\\\\n",
        "    f_{2,0} & 0 & \\dots & 0 & f_{2,N_y} \\\\\n",
        "    \\vdots & \\vdots & \\ddots & \\vdots & \\vdots \\\\\n",
        "    f_{N_x-2,0} & 0 & \\dots & 0 & f_{N_x-2,N_y} \\\\\n",
        "    f_{N_x-1,0} & 0 & \\dots & 0 & f_{N_x-1,N_y}\n",
        "    \\end{pmatrix}.\n",
        "\\end{equation*}\n",
        "\n",
        "Resulta inmediato ver por qué este esquema recibe el nombre de esténcil de 5 puntos, ya que se tendrá\n",
        "\\begin{equation*}\n",
        "    (\\nabla^2 f)^n_{i,j} = \\frac{f_{i-1,j} - 2f_{i,j} + f_{i+1,j}}{(\\Delta x)^2} + \\frac{f_{i,j-1} - 2f_{i,j} + f_{i,j+1}}{(\\Delta y)^2},\n",
        "\\end{equation*}\n",
        "y por lo tanto se utiliza información de los puntos $f_{i,j}$, $f_{i-1,j}$, $f_{i+1,j}$ , $f_{i,j-1}$ y $f_{i,j+1}$. De igual manera, se sigue que este esquema nunca utiliza la información de las esquinas del dominio: $f_{0,0}$, $f_{0,N_y}$, $f_{N_x,0}$ y $f_{N_x,N_y}$. Este problema puede solucionarse empleando otra aproximación para el laplaciano (o cualquier otro operador) que utilice, por ejemplo, 9 puntos ($f_{i-1,j-1}, f_{i-1,j}, f_{i-1,j+1}, f_{i,j-1}, f_{i,j}, f_{i,j+1}, f_{i+1,j-1}, f_{i+1,j}, f_{i+1,j+1}$).\n",
        "\n",
        "En general **el esténcil de 5 puntos** producirá buenos resultados a pesar de no utilizar la información de las esquinas y por tanto **es el único que usaremos en esta práctica**. Más aún, permite resolver fácilmente el caso donde sobre las mismas las condiciones de contorno no resultan contínuas. Un ejemplo de este problema puede ser el una placa que ocupa el dominio $(x,y) \\in [0, L_x] \\times [0,L_y]$ y donde la parte de la placa en $(L_x, y)$ está en contacto con un baño térmico a temperatura $T_1$ y la parte en $(x, L_y)$ con otro a temperatura $T_2 \\ne T_1$. Otra situación común es la de una placa rectangular cuyos extremos se hallan a diferente potencial electrostático. Si bien sabemos que la realidad macroscópica suele ser contínua y suave, las situaciones planteadas pueden ser un modelo exitoso para el caso donde en las puntas de la placa se encuentran recubiertas con un material aislante pero no queremos resolver explícitamente dicha dinámica."
      ]
    },
    {
      "cell_type": "markdown",
      "metadata": {
        "id": "fK3sbzUqA778"
      },
      "source": [
        "## **Condiciones de contorno dependientes del tiempo**"
      ]
    },
    {
      "cell_type": "markdown",
      "metadata": {
        "id": "uzglVtmkg_17"
      },
      "source": [
        "En el problema 7 van a encontrar que tienen condiciones de contorno de tipo Dirichlet, pero dependientes del tiempo, es decir dado un cierto problema diferencial asociado a $f$, van a tener la condición\n",
        "\\begin{equation*}\n",
        "    f(t,0) = b_1(t), \\qquad \\qquad f(t,L_x) = b_2(t).\n",
        "\\end{equation*}\n",
        "\n",
        "Si bien el problema en cuestión les pide utilizar integradores de Runge-Kutta de primer y segundo orden, a fines de obtener soluciones más precisas podrían intentar implementar un método de Runge-Kutta de 4to orden (y la correspondientes matrices de diferenciación expacial de órdenes superiores). Sin embargo, se encontrarían con el problema de cómo tratar las condiciones de contorno para las etapas intermedias. La idea más intuitiva sería evaluar $b_1$ y $b_2$ para los mismos tiempos donde se está calculando la etapa intermedia. Sin embargo, en general, esta estrategia permite alcanzar como máximo 2do orden global. No veremos en la materia cómo solucionar este problema. En caso de que precisemos órdenes de aproximación mayores a problemas con contornos utilizaremos integradores de la familia Adams. Sin embargo, quienes estén intersados, pueden leer sobre este inconveniente con los métodos de Runge-Kutta y algunas posibles soluciones en [este paper clásico](https://www.math.uh.edu/~hjm/june1995/p00379-p00388.pdf).\n",
        "\n",
        "Noten que el problema anterior solo aparece cuando las condiciones de contorno dependen del tiempo. En caso que las mismas sean estacionarias los métodos de Runge-Kutta mantendrán el orden de aproximación esperable a priori."
      ]
    },
    {
      "cell_type": "markdown",
      "metadata": {
        "id": "9s9jRX9uBRLG"
      },
      "source": [
        "# **Funciones útiles**"
      ]
    },
    {
      "cell_type": "markdown",
      "metadata": {
        "id": "raCZapAHBkzF"
      },
      "source": [
        "### **Matrices de diferenciación para condiciones de contorno periódicas**"
      ]
    },
    {
      "cell_type": "code",
      "metadata": {
        "id": "rJcv6O59L_8t"
      },
      "source": [
        "def diferenciacion_centrada_periodica(N, d, orden=1, precision=2):\n",
        "    \"\"\" \n",
        "    Devuelve una representación rala de la matriz de diferenciación que\n",
        "    aproxima a la derivada de un cierto orden. Puede devolver esquemas con\n",
        "    distintos órdenes de precisión.\n",
        "\n",
        "    Entrada:\n",
        "        - `N`:         Cantidad de puntos a diferenciar.\n",
        "          (entero)\n",
        "        - `d`:         Espaciamiento entre puntos.\n",
        "          (flotante)\n",
        "        - `orden`:     Orden de la derivada a aproximar.\n",
        "          (entero)\n",
        "        - `precision`: Orden de precisión del aproximante utilizado.\n",
        "          (entero)\n",
        "    \n",
        "    Salida:\n",
        "        - `D`: Representación rala de la matriz de diferenciación.\n",
        "          (`scipy.sparse.dia.dia_matrix`)\n",
        "    \"\"\"\n",
        "    from scipy.sparse import diags\n",
        "\n",
        "    if precision > N-1:\n",
        "        raise ValueError(\"Cantidad de puntos insuficiente para\"\n",
        "                         \" la precisión requerida.\")\n",
        "\n",
        "    # Derivada primera    \n",
        "    if orden == 1:\n",
        "        if precision == 2:\n",
        "            coefs = [ [-1], [0], [1] ]\n",
        "            fact  = 1/2\n",
        "        elif precision == 4:\n",
        "            coefs = [ [1], [-8], [0], [8], [-1] ]\n",
        "            fact  = 1/12\n",
        "        elif precision == 6:\n",
        "            coefs = [ [-1], [9], [-45], [0], [45], [-9], [1] ]\n",
        "            fact  = 1/60\n",
        "        elif precision == 8:\n",
        "            coefs = [ [3], [-32], [168], [-672], [0], [672], [-168], [32], [-3] ]\n",
        "            fact  = 1/840\n",
        "        else:\n",
        "            raise ValueError(\"Orden de precisión inexistente o\"\n",
        "                             \" no implementado.\")\n",
        "\n",
        "        fact *= 1/d\n",
        "\n",
        "    # Derivada segunda\n",
        "    elif orden == 2:\n",
        "        if precision == 2:\n",
        "            coefs  = [ [1], [-2], [1] ]\n",
        "            fact   = 1\n",
        "        elif precision == 4:\n",
        "            coefs  = [ [-1], [16], [-30], [16], [-1] ]\n",
        "            fact   = 1/12\n",
        "        elif precision == 6:\n",
        "            coefs  = [ [2], [-27], [270], [-490], [270], [-27], [2] ]\n",
        "            fact   = 1/180\n",
        "        elif precision == 8:\n",
        "            coefs  = [ [-9], [128], [-1008], [8064], [-14350] ]\n",
        "            coefs += [ [8064], [-1008], [128], [-9] ]\n",
        "            fact   = 1/5040\n",
        "        else:\n",
        "            raise ValueError(\"Orden de precisión inexistente o\"\n",
        "                             \" no implementado.\")\n",
        "        \n",
        "        fact *= 1/d**2\n",
        "    else:\n",
        "        raise ValueError(\"Orden de derivación inexistente o no implementado.\")\n",
        "\n",
        "    # Periodicidad\n",
        "    l        = len(coefs)\n",
        "    coefs   += coefs[:l//2] + coefs[l//2+1:]\n",
        "    offsets  = list(range(-l//2+1, l//2+1))\n",
        "    offsets += [  N + offsets[i] for i in range(0     , l//2) ]\n",
        "    offsets += [ -N + offsets[i] for i in range(l//2+1,    l) ]\n",
        "\n",
        "    return fact*diags(coefs, offsets=offsets, shape=(N,N))"
      ],
      "execution_count": null,
      "outputs": []
    },
    {
      "cell_type": "markdown",
      "metadata": {
        "id": "rIrjKOw9BXrt"
      },
      "source": [
        "### **Gráfico 1D animado**"
      ]
    },
    {
      "cell_type": "code",
      "metadata": {
        "id": "JPW5yzySBdHB"
      },
      "source": [
        "def grafico1d_animado(abscisas, ordenadas, dt, leyendas=None, titulo=\"\",\n",
        "                      etiqueta_x=\"\", etiqueta_y=\"\", paso=1, rescalar=False):\n",
        "    \"\"\"\n",
        "    Genera un gráfico animado 1D.\n",
        "\n",
        "    Entrada:\n",
        "        - `abscisas`:   arreglo 1D o lista de arreglos 1D con las abscisas para\n",
        "                            cada conjunto de datos.\n",
        "        - `ordenadas`:  arreglo de dimensión 2 con el valor de las ordenadas\n",
        "                            para cada tiempo. La cantidad de filas corresponde\n",
        "                            a la cantidad de niveles temporales y debe ser igual\n",
        "                            para cada conjunto de datos. La cantidad de columnas\n",
        "                            debe coincidir con la cantidad de elementos en las\n",
        "                            abscisas.\n",
        "        - `dt`:         paso temporal entre muestras.\n",
        "        - `leyendas`:   string o lista de strings con la etiqueta para cada set\n",
        "                            de datos.\n",
        "        - `titulo`:     string con el título del gráfico.\n",
        "        - `etiqueta_x`: string con la etiqueta para el eje x [OPCIONAL].\n",
        "        - `etiqueta_y`: string con la etiqueta para el eje y [OPCIONAL].\n",
        "        - `paso`:       espaciamiento en los datos para cada fotograma.\n",
        "        - `rescalar`:   True para recalcular los limites de la figura en cada\n",
        "                            fotograma.\n",
        "    \n",
        "    Salida:\n",
        "        - `anim`:   referencia al objeto de animación creado.\n",
        "    \"\"\"\n",
        "\n",
        "    import numpy as np\n",
        "    import matplotlib.pyplot as plt\n",
        "    import matplotlib.animation as animation\n",
        "\n",
        "    #   Control de errores y flexibilidad para permitir uno o varios\n",
        "    # sets de datos.\n",
        "    if not isinstance(abscisas, list):\n",
        "        if not isinstance(abscisas, np.ndarray):\n",
        "            print(\"El primer argumento de `grafico1d_animado` debe ser un \"\n",
        "                  \"arreglo con las abscisas o una lista de arreglos.\")\n",
        "            raise\n",
        "        else:\n",
        "            abscisas = [abscisas]\n",
        "\n",
        "    if (not isinstance(ordenadas, list)):\n",
        "        if (not isinstance(ordenadas, np.ndarray)):\n",
        "            print(\"El segundo argumento de `grafico1d_animado` debe ser un \"\n",
        "                  \"arreglo con los datos o una lista de arreglos.\")\n",
        "            raise\n",
        "        else:\n",
        "            ordenadas = [ordenadas]\n",
        "\n",
        "    if len(abscisas) != len(ordenadas):\n",
        "        print(\"La cantidad de arreglos de abscisas y de ordenadas debe \"\n",
        "              \"ser la misma.\")\n",
        "        raise\n",
        "\n",
        "    if leyendas and isinstance(leyendas, list):\n",
        "        if len(ordenadas) != len(leyendas):\n",
        "            print(\"Ordenadas y leyendas deben tener la misma cantidad de \", \n",
        "                  \"elementos.\")\n",
        "            raise\n",
        "    else:\n",
        "        leyendas = [leyendas]\n",
        "\n",
        "    # Guardo el estado de plt\n",
        "    params_viejos = plt.rcParams\n",
        "    plt.rc('animation', html='jshtml')\n",
        "\n",
        "    num_foto = ordenadas[0].shape[0]\n",
        "\n",
        "    fig, ax = plt.subplots(1, 1, figsize=(8,4), constrained_layout=True)\n",
        "    plt.close();  # Cerrar la figura, animation va a crear la suya propia\n",
        "\n",
        "    # Inicializo las curvas\n",
        "    plots = [ ax.plot([], [], label=leyendas[i])[0]\n",
        "              for i in range(len(ordenadas)) ]\n",
        "    ax.set_title(titulo + f\" $t=0$\")\n",
        "    ax.set_xlabel(etiqueta_x)\n",
        "    ax.set_ylabel(etiqueta_y)\n",
        "\n",
        "    def init():\n",
        "        \"\"\" Inicializador de la figura y gráfico de condiciones iniciales.\"\"\"\n",
        "        for i, (x, f) in enumerate(zip(abscisas, ordenadas)):\n",
        "            plots[i].set_xdata(x)\n",
        "            plots[i].set_ydata(f[0])\n",
        "        \n",
        "        ax.relim()\n",
        "        ax.autoscale_view()\n",
        "\n",
        "        return plots\n",
        "\n",
        "    def actualizar(t):\n",
        "        \"\"\" Actualiza los datos al fotograma actual.\"\"\"        \n",
        "        print(f\"\\rCalculando fotograma {t//paso} de {(num_foto-1)//paso}\",\n",
        "              end=\"\")\n",
        "        for i, f in enumerate(ordenadas):\n",
        "            plots[i].set_ydata(f[t])\n",
        "        \n",
        "        ax.set_title(titulo + f\" $t={t*dt:.5f}$\")\n",
        "        \n",
        "        if rescalar:\n",
        "            ax.relim()\n",
        "            ax.autoscale_view()\n",
        "\n",
        "        return plots\n",
        "\n",
        "    anim = animation.FuncAnimation(fig, actualizar, init_func=init,\n",
        "                                   frames=range(0, num_foto, paso),\n",
        "                                   blit=True, repeat=True)\n",
        "\n",
        "    # Restauro el estado de plt\n",
        "    plt.rc(params_viejos)\n",
        "\n",
        "    return anim"
      ],
      "execution_count": null,
      "outputs": []
    },
    {
      "cell_type": "markdown",
      "metadata": {
        "id": "sHVJ2icABczM"
      },
      "source": [
        "### **Gráfico 2D animado**"
      ]
    },
    {
      "cell_type": "code",
      "metadata": {
        "id": "vHYpXJ3PFDXU"
      },
      "source": [
        "def grafico2d_animado(x, y, escalar, dt, titulo=\"\", etiqueta_x=\"\",\n",
        "                      etiqueta_y=\"\",etiqueta_escalar=\"\", paso=1):\n",
        "    \"\"\"\n",
        "    Genera un gráfico animado 2D.\n",
        "\n",
        "    Entrada:\n",
        "        - `x`:       arreglo 1D (NX) con las abscisas de los datos datos.\n",
        "        - `y`:       arreglo 1D (NY) con las ordenadas de los datos datos.        \n",
        "        - `escalar`: arreglo 2D (NX,NY) con los valores del campo escalar sobre\n",
        "                     la grilla cartesiana.\n",
        "        - `dt`:      paso temporal entre muestras.\n",
        "\n",
        "        - `titulo`:           string con el título del gráfico [OPCIONAL].\n",
        "        - `etiqueta_x`:       string con la etiqueta para el eje x [OPCIONAL].\n",
        "        - `etiqueta_y`:       string con la etiqueta para el eje y [OPCIONAL].\n",
        "        - `etiqueta_escalar`: string con la etiqueta del campo escalar \n",
        "                              [OPCIONAL].\n",
        "        - `paso`:             espaciamiento en los datos para cada fotograma.\n",
        "                              [OPCIONAL]\n",
        "    \n",
        "    Salida:\n",
        "        - `anim`:   referencia al objeto de animación creado.\n",
        "    \"\"\"\n",
        "\n",
        "    import numpy as np\n",
        "    import matplotlib.pyplot as plt\n",
        "    import matplotlib.animation as animation\n",
        "\n",
        "    # Guardo el estado de plt\n",
        "    params_viejos = plt.rcParams\n",
        "    plt.rc('animation', html='jshtml')\n",
        "\n",
        "    num_foto =escalar.shape[0]\n",
        "\n",
        "    fig, ax = plt.subplots(1, 1, figsize=(8,8), constrained_layout=True)\n",
        "    plt.close();  # Cerrar la figura, animation va a crear la suya propia\n",
        "\n",
        "    # Inicializo las curvas\n",
        "    plot = ax.imshow( np.ones_like(X), extent=(x[0], x[-1], y[0], y[-1]),\n",
        "                      origin=\"lower\", interpolation='gaussian',\n",
        "                      vmin=escalar.min(), vmax=escalar.max())\n",
        "\n",
        "    cbar = fig.colorbar(plot, ax=ax, orientation=\"horizontal\")\n",
        "    cbar.set_label(etiqueta_escalar)\n",
        "\n",
        "    ax.set_title(titulo + f\" $t=0$\")\n",
        "    ax.set_xlabel(etiqueta_x)\n",
        "    ax.set_ylabel(etiqueta_y)\n",
        "\n",
        "    def init():\n",
        "        \"\"\" Inicializador de la figura y gráfico de condiciones iniciales.\"\"\"\n",
        "        plot.set_data(escalar[0].T)\n",
        "        return plot,\n",
        "\n",
        "    def actualizar(t):\n",
        "        \"\"\" Actualiza los datos al fotograma actual.\"\"\"        \n",
        "        print(f\"\\rCalculando fotograma {t//paso} de {(num_foto-1)//paso}\",\n",
        "              end=\"\")\n",
        "        plot.set_data(escalar[t].T)\n",
        "        \n",
        "        ax.set_title(titulo + f\" $t={t*dt:.5f}$\")\n",
        "        return plot,\n",
        "\n",
        "    anim = animation.FuncAnimation(fig, actualizar, init_func=init,\n",
        "                                   frames=range(0, num_foto, paso),\n",
        "                                   blit=False, repeat=True)\n",
        "\n",
        "    # Restauro el estado de plt\n",
        "    plt.rc(params_viejos)\n",
        "\n",
        "    return anim"
      ],
      "execution_count": null,
      "outputs": []
    }
  ]
}